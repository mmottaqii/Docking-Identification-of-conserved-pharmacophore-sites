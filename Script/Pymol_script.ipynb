{
 "cells": [
  {
   "cell_type": "markdown",
   "id": "7d0b6193",
   "metadata": {},
   "source": [
    "# 1. Preprocessing"
   ]
  },
  {
   "cell_type": "code",
   "execution_count": null,
   "id": "21431b1f",
   "metadata": {},
   "outputs": [],
   "source": [
    "# Converting resn(residue number) in all ligand files to distinct values"
   ]
  },
  {
   "cell_type": "code",
   "execution_count": null,
   "id": "0f414cc6",
   "metadata": {},
   "outputs": [],
   "source": [
    "import glob\n",
    "\n",
    "# Creating a list containing the files' names\n",
    "list_names = []\n",
    "for name in glob.glob('/home/vincent/Downloads/gcc_test/*.mol2'):\n",
    "    list_names.append(name)\n",
    "list_names.sort()\n",
    "\n",
    "\n",
    "def change_func(filename,num):\n",
    "  # Read in the file\n",
    "  with open(f'{filename}', 'r') as file :\n",
    "    filedata = file.read()\n",
    "  # Replace the target string\n",
    "  filedata = filedata.replace('<0>', f'{num}')\n",
    "  # Write the file out again\n",
    "  with open(f'{filename}', 'w') as file:\n",
    "    file.write(filedata)"
   ]
  },
  {
   "cell_type": "code",
   "execution_count": null,
   "id": "5871e0cf",
   "metadata": {},
   "outputs": [],
   "source": [
    "j = 1\n",
    "for i in list_names:\n",
    "  change_func(i,j)\n",
    "  j += 1"
   ]
  },
  {
   "cell_type": "markdown",
   "id": "99479291",
   "metadata": {},
   "source": [
    "# 2. Loading all files into the PyMol"
   ]
  },
  {
   "cell_type": "code",
   "execution_count": null,
   "id": "837a49d3",
   "metadata": {},
   "outputs": [],
   "source": [
    "from pymol import cmd\n",
    "import glob\n",
    "import pandas as pd"
   ]
  },
  {
   "cell_type": "code",
   "execution_count": null,
   "id": "4d240685",
   "metadata": {},
   "outputs": [],
   "source": [
    "list_ligands = []\n",
    "for name in glob.glob('/home/vincent/wee1/*.mol2'):\n",
    "    list_ligands.append(name)\n",
    "\n",
    "for i in list_ligands:\n",
    "    cmd.load(i)"
   ]
  },
  {
   "cell_type": "markdown",
   "id": "f466bbc3",
   "metadata": {},
   "source": [
    "# 3. Object creation in PyMol for acceptor and donor atoms"
   ]
  },
  {
   "cell_type": "code",
   "execution_count": null,
   "id": "772d4450",
   "metadata": {},
   "outputs": [],
   "source": [
    "# Needs to be run in PyMOL software"
   ]
  },
  {
   "cell_type": "code",
   "execution_count": null,
   "id": "845dcf1d",
   "metadata": {},
   "outputs": [],
   "source": [
    "# Initialize by adding hydrogens and removing solvents to prepare the structure\n",
    "cmd.h_add()  # Correct usage to ensure the command is executed\n",
    "cmd.remove(\"solvent\")  # Removes all solvent molecules, typically water\n",
    "\n",
    "# Define and create selections for donor and acceptor atoms within the molecule\n",
    "cmd.create(\"acceptors_object\", \"elem O,F or (elem N and not (neighbor hydro) and not (fc. > 0))\")\n",
    "cmd.create(\"donors_object\", \"(elem O + elem N + elem S) and (neighbor hydrogens)\")\n",
    "\n",
    "# Dictionary to store atoms categorized as donors, acceptors, and from pharmacophore query\n",
    "atom_categories = {\"don\": [], \"acc\": [], \"pharmacophore\": []}\n",
    "\n",
    "# Populate the dictionary with atom details for each category\n",
    "cmd.iterate('donors_object', \"don.append('/%s/%s/%s/%s`%s/%s' % (model, segi, chain, resn, resi, name))\", space=atom_categories)\n",
    "cmd.iterate('acceptors_object', \"acc.append('/%s/%s/%s/%s`%s/%s' % (model, segi, chain, resn, resi, name))\", space=atom_categories)\n",
    "\n",
    "# Load the pharmacophore model and add its atom details to the query category\n",
    "pharmacophore_name = \"wee1_bbr_3CFF_query\"\n",
    "cmd.load(f\"/home/vincent/wee1/{pharmacophore_name}.pdb\", \"ppara\")\n",
    "cmd.iterate(\"ppara\", \"pharmacophore.append('/%s/%s/%s/%s`%s/%s' % (model, segi, chain, resn, resi, name))\", space=atom_categories)"
   ]
  },
  {
   "cell_type": "markdown",
   "id": "b151b7f3",
   "metadata": {},
   "source": [
    "# 4. Defining primary functions for distance measurements"
   ]
  },
  {
   "cell_type": "code",
   "execution_count": null,
   "id": "7496a3d1",
   "metadata": {},
   "outputs": [],
   "source": [
    "# Define functions to measure distances for potential interactions between atoms\n",
    "def pharmacopcount_donor_interactionshore(atom):\n",
    "    \"\"\"Calculate and return the number of donor interactions within 3.2 angstroms for a given atom.\"\"\"\n",
    "    count = 0\n",
    "    for i in atom_categories[\"don\"]:\n",
    "        if cmd.get_distance(i, atom) <= 3.2:\n",
    "            count += 1\n",
    "    return count\n",
    "\n",
    "def count_acceptor_interactions(atom):\n",
    "    \"\"\"Calculate and return the number of acceptor interactions within 3.2 angstroms for a given atom.\"\"\"\n",
    "    count = 0\n",
    "    for i in atom_categories[\"acc\"]:\n",
    "        if cmd.get_distance(i, atom) <= 3.2:\n",
    "            count += 1\n",
    "    return count\n",
    "\n",
    "def count_hydrophobic_interactions(atom):\n",
    "    \"\"\"Identify and count hydrophobic interactions within 4 angstroms for a given atom.\"\"\"\n",
    "    cmd.create(\"hydrophobic\", f\"((elem C and not (neighbor elem N) and not (neighbor elem O) and not (neighbor elem F) and not acceptors_object and not donors_object and not ppara)) within 4 of ({atom})\")\n",
    "    temp = {\"hydrophobic\": []}\n",
    "    cmd.iterate(\"hydrophobic\", \"hydrophobic.append('%s' % (name))\", space=temp)\n",
    "    cmd.delete(\"hydrophobic\")\n",
    "    return len(temp[\"hydrophobic\"])"
   ]
  },
  {
   "cell_type": "markdown",
   "id": "d513e9ac",
   "metadata": {},
   "source": [
    "# 5. Obtaining interaction summary and dataframe creation"
   ]
  },
  {
   "cell_type": "code",
   "execution_count": null,
   "id": "3978e08f",
   "metadata": {},
   "outputs": [],
   "source": [
    "# Compile interactions data for each atom in the query\n",
    "interaction_summary = []\n",
    "for at in atom_categories[\"pharmacophore\"]:\n",
    "    interactions = [at]\n",
    "    # Determine the role and interactions based on atom type and properties\n",
    "    if at[8] == \"G\":\n",
    "        interactions += [\"Grease\", \"NA\", \"NA\", count_hydrophobic_interactions(at)]\n",
    "    elif at[8] == \"B\":\n",
    "        if at[-1] == \"O\":\n",
    "            interactions += [\"Donor\", count_acceptor_interactions(at), pharmacopcount_donor_interactionshore(at), \"NA\"]\n",
    "        else:\n",
    "            interactions += [\"Acceptor\", count_acceptor_interactions(at), pharmacopcount_donor_interactionshore(at), \"NA\"]\n",
    "    else:\n",
    "        role = \"Donor\" if at[8] == \"D\" else \"Acceptor\"\n",
    "        interactions += [role, count_acceptor_interactions(at), pharmacopcount_donor_interactionshore(at), \"NA\"]\n",
    "    interaction_summary.append(interactions)\n",
    "\n",
    "\n",
    "# Create a DataFrame for analysis and visualization\n",
    "table_labels = [\"Atom Details\", \"Label\", \"Acceptor H-Bonds\", \"Donor H-Bonds\", \"Hydrophobic Interactions\"]\n",
    "table_index = [f\"{pharmacophore_name[0:4].capitalize()}_atom_{num}\" for num in range(1, len(interaction_summary)+1)]\n",
    "df = pd.DataFrame(data=interaction_summary, index=table_index, columns=table_labels)"
   ]
  },
  {
   "cell_type": "code",
   "execution_count": null,
   "id": "74086dce",
   "metadata": {},
   "outputs": [],
   "source": [
    "df.to_csv(\"/home/vincent/results/wee1.csv\")"
   ]
  },
  {
   "cell_type": "code",
   "execution_count": null,
   "id": "1d187ee3",
   "metadata": {},
   "outputs": [],
   "source": []
  },
  {
   "cell_type": "markdown",
   "id": "5c51b79c",
   "metadata": {},
   "source": [
    "# 6. Identifying the outliers"
   ]
  },
  {
   "cell_type": "code",
   "execution_count": 60,
   "id": "6ec4411a",
   "metadata": {},
   "outputs": [
    {
     "data": {
      "text/html": [
       "<div>\n",
       "<style scoped>\n",
       "    .dataframe tbody tr th:only-of-type {\n",
       "        vertical-align: middle;\n",
       "    }\n",
       "\n",
       "    .dataframe tbody tr th {\n",
       "        vertical-align: top;\n",
       "    }\n",
       "\n",
       "    .dataframe thead th {\n",
       "        text-align: right;\n",
       "    }\n",
       "</style>\n",
       "<table border=\"1\" class=\"dataframe\">\n",
       "  <thead>\n",
       "    <tr style=\"text-align: right;\">\n",
       "      <th></th>\n",
       "      <th>Atom Details</th>\n",
       "      <th>Label</th>\n",
       "      <th>Acceptor H-Bonds</th>\n",
       "      <th>Donor H-Bonds</th>\n",
       "      <th>Hydrophobic Interactions</th>\n",
       "    </tr>\n",
       "  </thead>\n",
       "  <tbody>\n",
       "    <tr>\n",
       "      <th>Wee1_atom_1</th>\n",
       "      <td>/ppara//B/WAT`2/O</td>\n",
       "      <td>Donor</td>\n",
       "      <td>31.0</td>\n",
       "      <td>9.0</td>\n",
       "      <td>NaN</td>\n",
       "    </tr>\n",
       "    <tr>\n",
       "      <th>Wee1_atom_2</th>\n",
       "      <td>/ppara//B/WAT`3/N</td>\n",
       "      <td>Acceptor</td>\n",
       "      <td>31.0</td>\n",
       "      <td>9.0</td>\n",
       "      <td>NaN</td>\n",
       "    </tr>\n",
       "    <tr>\n",
       "      <th>Wee1_atom_3</th>\n",
       "      <td>/ppara//D/WAT`1/N</td>\n",
       "      <td>Donor</td>\n",
       "      <td>20.0</td>\n",
       "      <td>19.0</td>\n",
       "      <td>NaN</td>\n",
       "    </tr>\n",
       "    <tr>\n",
       "      <th>Wee1_atom_4</th>\n",
       "      <td>/ppara//G/WAT`4/C</td>\n",
       "      <td>Grease</td>\n",
       "      <td>NaN</td>\n",
       "      <td>NaN</td>\n",
       "      <td>79.0</td>\n",
       "    </tr>\n",
       "    <tr>\n",
       "      <th>Wee1_atom_5</th>\n",
       "      <td>/ppara//G/WAT`5/C</td>\n",
       "      <td>Grease</td>\n",
       "      <td>NaN</td>\n",
       "      <td>NaN</td>\n",
       "      <td>87.0</td>\n",
       "    </tr>\n",
       "    <tr>\n",
       "      <th>Wee1_atom_6</th>\n",
       "      <td>/ppara//G/WAT`6/C</td>\n",
       "      <td>Grease</td>\n",
       "      <td>NaN</td>\n",
       "      <td>NaN</td>\n",
       "      <td>71.0</td>\n",
       "    </tr>\n",
       "    <tr>\n",
       "      <th>Wee1_atom_7</th>\n",
       "      <td>/ppara//G/WAT`7/C</td>\n",
       "      <td>Grease</td>\n",
       "      <td>NaN</td>\n",
       "      <td>NaN</td>\n",
       "      <td>49.0</td>\n",
       "    </tr>\n",
       "    <tr>\n",
       "      <th>Wee1_atom_8</th>\n",
       "      <td>/ppara//G/WAT`8/C</td>\n",
       "      <td>Grease</td>\n",
       "      <td>NaN</td>\n",
       "      <td>NaN</td>\n",
       "      <td>34.0</td>\n",
       "    </tr>\n",
       "    <tr>\n",
       "      <th>Wee1_atom_9</th>\n",
       "      <td>/ppara//G/WAT`9/C</td>\n",
       "      <td>Grease</td>\n",
       "      <td>NaN</td>\n",
       "      <td>NaN</td>\n",
       "      <td>53.0</td>\n",
       "    </tr>\n",
       "  </tbody>\n",
       "</table>\n",
       "</div>"
      ],
      "text/plain": [
       "                  Atom Details     Label  Acceptor H-Bonds  Donor H-Bonds  \\\n",
       "Wee1_atom_1  /ppara//B/WAT`2/O     Donor              31.0            9.0   \n",
       "Wee1_atom_2  /ppara//B/WAT`3/N  Acceptor              31.0            9.0   \n",
       "Wee1_atom_3  /ppara//D/WAT`1/N     Donor              20.0           19.0   \n",
       "Wee1_atom_4  /ppara//G/WAT`4/C    Grease               NaN            NaN   \n",
       "Wee1_atom_5  /ppara//G/WAT`5/C    Grease               NaN            NaN   \n",
       "Wee1_atom_6  /ppara//G/WAT`6/C    Grease               NaN            NaN   \n",
       "Wee1_atom_7  /ppara//G/WAT`7/C    Grease               NaN            NaN   \n",
       "Wee1_atom_8  /ppara//G/WAT`8/C    Grease               NaN            NaN   \n",
       "Wee1_atom_9  /ppara//G/WAT`9/C    Grease               NaN            NaN   \n",
       "\n",
       "             Hydrophobic Interactions  \n",
       "Wee1_atom_1                       NaN  \n",
       "Wee1_atom_2                       NaN  \n",
       "Wee1_atom_3                       NaN  \n",
       "Wee1_atom_4                      79.0  \n",
       "Wee1_atom_5                      87.0  \n",
       "Wee1_atom_6                      71.0  \n",
       "Wee1_atom_7                      49.0  \n",
       "Wee1_atom_8                      34.0  \n",
       "Wee1_atom_9                      53.0  "
      ]
     },
     "execution_count": 60,
     "metadata": {},
     "output_type": "execute_result"
    }
   ],
   "source": [
    "import pandas as pd\n",
    "df = pd.read_csv(\"results/wee1.csv\", index_col=0)\n",
    "df"
   ]
  },
  {
   "cell_type": "code",
   "execution_count": 61,
   "id": "24deed20",
   "metadata": {},
   "outputs": [
    {
     "name": "stdout",
     "output_type": "stream",
     "text": [
      "              Label  Outlier\n",
      "Wee1_atom_5  Grease  Outlier\n"
     ]
    }
   ],
   "source": [
    "# Function to apply z-score within groups and find outliers\n",
    "def detect_outliers(group, column):\n",
    "    if len(group[column].dropna()) >= 3:  # Check if the group size is sufficient\n",
    "        group['Z-Score'] = zscore(group[column].dropna())  # Calculate z-score\n",
    "        group['Outlier'] = group['Z-Score'].apply(lambda x: 'Outlier' if x > 2 else 'Not Outlier')\n",
    "    else:\n",
    "        group['Z-Score'] = 'Insufficient data'  # Mark groups with insufficient data\n",
    "        group['Outlier'] = 'Insufficient data'\n",
    "    return group\n",
    "\n",
    "# Apply the function based on the label\n",
    "outlier_results = pd.DataFrame()\n",
    "for label, column in [('Acceptor', 'Donor H-Bonds'), ('Donor', 'Acceptor H-Bonds'), ('Grease', 'Hydrophobic Interactions')]:\n",
    "    subgroup = df[df['Label'] == label].copy()\n",
    "    if not subgroup.empty:\n",
    "        processed_subgroup = detect_outliers(subgroup, column)\n",
    "        outlier_results = pd.concat([outlier_results, processed_subgroup])\n",
    "\n",
    "# Filter for outliers and remove 'Atom Details'\n",
    "final_output = outlier_results[outlier_results['Outlier'] == 'Outlier']\n",
    "final_output = final_output.drop(columns=['Atom Details', 'Z-Score'])\n",
    "\n",
    "# Export to CSV # Specify your desired path\n",
    "final_output[['Label', 'Outlier']].to_csv('wee1.csv')\n",
    "\n",
    "# Print and confirm export\n",
    "#print(\"Outliers exported to CSV file:\", csv_file_path)\n",
    "print(final_output[['Label', 'Outlier']])  # Display the dataframe containing only the outliers\n"
   ]
  },
  {
   "cell_type": "code",
   "execution_count": null,
   "id": "0c6f5bce",
   "metadata": {},
   "outputs": [],
   "source": []
  }
 ],
 "metadata": {
  "kernelspec": {
   "display_name": "Python 3",
   "language": "python",
   "name": "python3"
  },
  "language_info": {
   "codemirror_mode": {
    "name": "ipython",
    "version": 3
   },
   "file_extension": ".py",
   "mimetype": "text/x-python",
   "name": "python",
   "nbconvert_exporter": "python",
   "pygments_lexer": "ipython3",
   "version": "3.10.6"
  }
 },
 "nbformat": 4,
 "nbformat_minor": 5
}
