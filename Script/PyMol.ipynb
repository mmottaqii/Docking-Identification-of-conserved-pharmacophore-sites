{
 "cells": [
  {
   "cell_type": "markdown",
   "id": "7d0b6193",
   "metadata": {},
   "source": [
    "# 1. Preprocessing"
   ]
  },
  {
   "cell_type": "code",
   "execution_count": null,
   "id": "21431b1f",
   "metadata": {},
   "outputs": [],
   "source": [
    "# Converting resn(residue number) in all ligand files to distinct values"
   ]
  },
  {
   "cell_type": "code",
   "execution_count": null,
   "id": "0f414cc6",
   "metadata": {},
   "outputs": [],
   "source": [
    "import glob\n",
    "\n",
    "# Creating a list containing the files' names\n",
    "list_names = []\n",
    "for name in glob.glob('/home/vincent/Downloads/gcc_test/*.mol2'):\n",
    "    list_names.append(name)\n",
    "list_names.sort()\n",
    "\n",
    "\n",
    "def change_func(filename,num):\n",
    "  # Read in the file\n",
    "  with open(f'{filename}', 'r') as file :\n",
    "    filedata = file.read()\n",
    "  # Replace the target string\n",
    "  filedata = filedata.replace('<0>', f'{num}')\n",
    "  # Write the file out again\n",
    "  with open(f'{filename}', 'w') as file:\n",
    "    file.write(filedata)"
   ]
  },
  {
   "cell_type": "code",
   "execution_count": null,
   "id": "5871e0cf",
   "metadata": {},
   "outputs": [],
   "source": [
    "j = 1\n",
    "for i in list_names:\n",
    "  change_func(i,j)\n",
    "  j += 1"
   ]
  },
  {
   "cell_type": "markdown",
   "id": "99479291",
   "metadata": {},
   "source": [
    "# 2. Loading all files into the PyMol"
   ]
  },
  {
   "cell_type": "code",
   "execution_count": null,
   "id": "837a49d3",
   "metadata": {},
   "outputs": [],
   "source": [
    "from pymol import cmd\n",
    "import glob\n",
    "import pandas as pd"
   ]
  },
  {
   "cell_type": "code",
   "execution_count": null,
   "id": "4d240685",
   "metadata": {},
   "outputs": [],
   "source": [
    "list_ligands = []\n",
    "for name in glob.glob('/home/vincent/wee1/*.mol2'):\n",
    "    list_ligands.append(name)\n",
    "\n",
    "for i in list_ligands:\n",
    "    cmd.load(i)"
   ]
  },
  {
   "cell_type": "markdown",
   "id": "f466bbc3",
   "metadata": {},
   "source": [
    "# 3. Object creation in PyMol for acceptor and donor atoms"
   ]
  },
  {
   "cell_type": "code",
   "execution_count": null,
   "id": "845dcf1d",
   "metadata": {},
   "outputs": [],
   "source": [
    "# Initialize by adding hydrogens and removing solvents to prepare the structure\n",
    "cmd.h_add()  # Correct usage to ensure the command is executed\n",
    "cmd.remove(\"solvent\")  # Removes all solvent molecules, typically water\n",
    "\n",
    "# Define and create selections for donor and acceptor atoms within the molecule\n",
    "cmd.create(\"acceptors_object\", \"elem O,F or (elem N and not (neighbor hydro) and not (fc. > 0))\")\n",
    "cmd.create(\"donors_object\", \"(elem O + elem N + elem S) and (neighbor hydrogens)\")\n",
    "\n",
    "# Dictionary to store atoms categorized as donors, acceptors, and from pharmacophore query\n",
    "atom_categories = {\"don\": [], \"acc\": [], \"pharmacophore\": []}\n",
    "\n",
    "# Populate the dictionary with atom details for each category\n",
    "cmd.iterate('donors_object', \"don.append('/%s/%s/%s/%s`%s/%s' % (model, segi, chain, resn, resi, name))\", space=atom_categories)\n",
    "cmd.iterate('acceptors_object', \"acc.append('/%s/%s/%s/%s`%s/%s' % (model, segi, chain, resn, resi, name))\", space=atom_categories)\n",
    "\n",
    "# Load the pharmacophore model and add its atom details to the query category\n",
    "pharmacophore_name = \"wee1_bbr_3CFF_query\"\n",
    "cmd.load(f\"/home/vincent/wee1/{pharmacophore_name}.pdb\", \"ppara\")\n",
    "cmd.iterate(\"ppara\", \"pharmacophore.append('/%s/%s/%s/%s`%s/%s' % (model, segi, chain, resn, resi, name))\", space=atom_categories)"
   ]
  },
  {
   "cell_type": "markdown",
   "id": "b151b7f3",
   "metadata": {},
   "source": [
    "# 4. Defining primary functions for distance measurements"
   ]
  },
  {
   "cell_type": "code",
   "execution_count": null,
   "id": "7496a3d1",
   "metadata": {},
   "outputs": [],
   "source": [
    "# Define functions to measure distances for potential interactions between atoms\n",
    "def pharmacopcount_donor_interactionshore(atom):\n",
    "    \"\"\"Calculate and return the number of donor interactions within 2 angstroms for a given atom.\"\"\"\n",
    "    count = 0\n",
    "    for i in atom_categories[\"don\"]:\n",
    "        if cmd.get_distance(i, atom) <= 2:\n",
    "            count += 1\n",
    "    return count\n",
    "\n",
    "def count_acceptor_interactions(atom):\n",
    "    \"\"\"Calculate and return the number of acceptor interactions within 2 angstroms for a given atom.\"\"\"\n",
    "    count = 0\n",
    "    for i in atom_categories[\"acc\"]:\n",
    "        if cmd.get_distance(i, atom) <= 2:\n",
    "            count += 1\n",
    "    return count\n",
    "\n",
    "def count_hydrophobic_interactions(atom):\n",
    "    \"\"\"Identify and count hydrophobic interactions within 3 angstroms for a given atom.\"\"\"\n",
    "    cmd.create(\"hydrophobic\", f\"((elem C and not (neighbor elem N) and not (neighbor elem O) and not (neighbor elem F) and not acceptors_object and not donors_object and not ppara)) within 3 of ({atom})\")\n",
    "    temp = {\"hydrophobic\": []}\n",
    "    cmd.iterate(\"hydrophobic\", \"hydrophobic.append('%s' % (name))\", space=temp)\n",
    "    cmd.delete(\"hydrophobic\")\n",
    "    return len(temp[\"hydrophobic\"])"
   ]
  },
  {
   "cell_type": "markdown",
   "id": "d513e9ac",
   "metadata": {},
   "source": [
    "# 5. Obtaining interaction summary"
   ]
  },
  {
   "cell_type": "code",
   "execution_count": null,
   "id": "3978e08f",
   "metadata": {},
   "outputs": [],
   "source": [
    "# Compile interactions data for each atom in the query\n",
    "interaction_summary = []\n",
    "for at in atom_categories[\"pharmacophore\"]:\n",
    "    interactions = [at]\n",
    "    # Determine the role and interactions based on atom type and properties\n",
    "    if at[8] == \"G\":\n",
    "        interactions += [\"Grease\", \"NA\", \"NA\", count_hydrophobic_interactions(at)]\n",
    "    elif at[8] == \"B\":\n",
    "        if at[-1] == \"O\":\n",
    "            interactions += [\"Donor\", count_acceptor_interactions(at), pharmacopcount_donor_interactionshore(at), \"NA\"]\n",
    "        else:\n",
    "            interactions += [\"Acceptor\", count_acceptor_interactions(at), pharmacopcount_donor_interactionshore(at), \"NA\"]\n",
    "    else:\n",
    "        role = \"Donor\" if at[8] == \"D\" else \"Acceptor\"\n",
    "        interactions += [role, count_acceptor_interactions(at), pharmacopcount_donor_interactionshore(at), \"NA\"]\n",
    "    interaction_summary.append(interactions)\n",
    "\n"
   ]
  },
  {
   "cell_type": "markdown",
   "id": "41740884",
   "metadata": {},
   "source": [
    "# 6. Dataframe creation"
   ]
  },
  {
   "cell_type": "code",
   "execution_count": null,
   "id": "738976bd",
   "metadata": {},
   "outputs": [],
   "source": [
    "# Create a DataFrame for analysis and visualization\n",
    "table_labels = [\"Atom Details\", \"Label\", \"Acceptor H-Bonds\", \"Donor H-Bonds\", \"Hydrophobic Interactions\"]\n",
    "table_index = [f\"{pharmacophore_name[0:4].capitalize()}_atom_{num}\" for num in range(1, len(interaction_summary)+1)]\n",
    "df = pd.DataFrame(data=interaction_summary, index=table_index, columns=table_labels)"
   ]
  },
  {
   "cell_type": "code",
   "execution_count": null,
   "id": "74086dce",
   "metadata": {},
   "outputs": [],
   "source": [
    "df.to_csv(\"/home/vincent/wee1/interaction_summary_wee1.csv\")"
   ]
  }
 ],
 "metadata": {
  "language_info": {
   "name": "python"
  }
 },
 "nbformat": 4,
 "nbformat_minor": 5
}
